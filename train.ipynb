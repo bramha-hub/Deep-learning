{
 "cells": [
  {
   "cell_type": "code",
   "execution_count": 1,
   "id": "a48852ae",
   "metadata": {},
   "outputs": [],
   "source": [
    "import tensorflow as tf\n",
    "from tensorflow.keras import models, layers\n",
    "from tensorflow.keras.layers import Dense\n",
    "import matplotlib.pyplot as plt\n",
    "from tensorflow.keras.callbacks import EarlyStopping\n",
    "import numpy as np\n",
    "from sklearn.metrics import confusion_matrix\n",
    "import seaborn as sns"
   ]
  },
  {
   "cell_type": "code",
   "execution_count": 2,
   "id": "e752d90d",
   "metadata": {},
   "outputs": [
    {
     "data": {
      "text/plain": [
       "True"
      ]
     },
     "execution_count": 2,
     "metadata": {},
     "output_type": "execute_result"
    }
   ],
   "source": [
    "len(tf.config.list_physical_devices('GPU'))>0"
   ]
  },
  {
   "cell_type": "code",
   "execution_count": 3,
   "id": "ec1fcdfc",
   "metadata": {},
   "outputs": [],
   "source": [
    "iz = 244\n",
    "bs = 32"
   ]
  },
  {
   "cell_type": "code",
   "execution_count": 4,
   "id": "801e1666",
   "metadata": {},
   "outputs": [
    {
     "name": "stdout",
     "output_type": "stream",
     "text": [
      "Found 7222 files belonging to 4 classes.\n"
     ]
    }
   ],
   "source": [
    "training_ds = tf.keras.preprocessing.image_dataset_from_directory(\n",
    "\"train\",\n",
    "shuffle = True,\n",
    "seed = 16,\n",
    "image_size = (iz, iz),\n",
    "batch_size = bs\n",
    ")"
   ]
  },
  {
   "cell_type": "code",
   "execution_count": 5,
   "id": "e0c2290c",
   "metadata": {},
   "outputs": [
    {
     "name": "stdout",
     "output_type": "stream",
     "text": [
      "(32, 244, 244, 3) (32,)\n",
      "<dtype: 'float32'> <dtype: 'int32'>\n"
     ]
    }
   ],
   "source": [
    "for images, labels in training_ds.take(1):\n",
    "    print(images.shape, labels.shape)\n",
    "    print(images.dtype, labels.dtype)"
   ]
  },
  {
   "cell_type": "code",
   "execution_count": 6,
   "id": "b38380da",
   "metadata": {},
   "outputs": [],
   "source": [
    "amount = int(len(training_ds) * 20/100)\n",
    "# amount\n",
    "validation_ds = training_ds.take(amount)"
   ]
  },
  {
   "cell_type": "code",
   "execution_count": 7,
   "id": "b4c7441d",
   "metadata": {},
   "outputs": [
    {
     "name": "stdout",
     "output_type": "stream",
     "text": [
      "['Black Rot', 'ESCA', 'Healthy', 'Leaf Blight']\n",
      "4\n"
     ]
    }
   ],
   "source": [
    "class_names = training_ds.class_names\n",
    "print(class_names)\n",
    "class_number = len(class_names)\n",
    "print(class_number)"
   ]
  },
  {
   "cell_type": "code",
   "execution_count": 7,
   "id": "00d393af",
   "metadata": {},
   "outputs": [],
   "source": [
    "from tensorflow.keras.applications import ResNet50\n",
    "model = models.Sequential()\n",
    "model.add(ResNet50(include_top=False, pooling='max', weights='imagenet', input_shape = (iz, iz, 3)))\n",
    "model.add(Dense(class_number, activation='softmax'))\n",
    "model.layers[0].trainable = False"
   ]
  },
  {
   "cell_type": "code",
   "execution_count": 8,
   "id": "6d728362",
   "metadata": {},
   "outputs": [
    {
     "name": "stdout",
     "output_type": "stream",
     "text": [
      "Model: \"sequential\"\n",
      "_________________________________________________________________\n",
      " Layer (type)                Output Shape              Param #   \n",
      "=================================================================\n",
      " resnet50 (Functional)       (None, 2048)              23587712  \n",
      "                                                                 \n",
      " dense (Dense)               (None, 4)                 8196      \n",
      "                                                                 \n",
      "=================================================================\n",
      "Total params: 23595908 (90.01 MB)\n",
      "Trainable params: 8196 (32.02 KB)\n",
      "Non-trainable params: 23587712 (89.98 MB)\n",
      "_________________________________________________________________\n"
     ]
    }
   ],
   "source": [
    "model.summary()"
   ]
  },
  {
   "cell_type": "code",
   "execution_count": 9,
   "id": "67df1f25",
   "metadata": {},
   "outputs": [],
   "source": [
    "model.compile(loss='sparse_categorical_crossentropy', optimizer='adam', metrics=['accuracy'])"
   ]
  },
  {
   "cell_type": "code",
   "execution_count": 10,
   "id": "4213399c",
   "metadata": {},
   "outputs": [],
   "source": [
    "early = EarlyStopping(monitor = 'val_loss', patience=3)"
   ]
  },
  {
   "cell_type": "code",
   "execution_count": 11,
   "id": "9fae4628",
   "metadata": {},
   "outputs": [
    {
     "name": "stdout",
     "output_type": "stream",
     "text": [
      "Epoch 1/10\n",
      "226/226 [==============================] - 642s 3s/step - loss: 0.5021 - accuracy: 0.8952 - val_loss: 0.2743 - val_accuracy: 0.9271\n",
      "Epoch 2/10\n",
      "226/226 [==============================] - 635s 3s/step - loss: 0.0925 - accuracy: 0.9708 - val_loss: 0.0452 - val_accuracy: 0.9854\n",
      "Epoch 3/10\n",
      "226/226 [==============================] - 640s 3s/step - loss: 0.0502 - accuracy: 0.9846 - val_loss: 0.0643 - val_accuracy: 0.9778\n",
      "Epoch 4/10\n",
      "226/226 [==============================] - 638s 3s/step - loss: 0.0219 - accuracy: 0.9918 - val_loss: 0.0133 - val_accuracy: 0.9944\n",
      "Epoch 5/10\n",
      "226/226 [==============================] - 639s 3s/step - loss: 0.0313 - accuracy: 0.9895 - val_loss: 0.0039 - val_accuracy: 0.9993\n",
      "Epoch 6/10\n",
      "226/226 [==============================] - 636s 3s/step - loss: 0.0042 - accuracy: 0.9989 - val_loss: 0.0034 - val_accuracy: 0.9993\n",
      "Epoch 7/10\n",
      "226/226 [==============================] - 627s 3s/step - loss: 0.0088 - accuracy: 0.9967 - val_loss: 0.0086 - val_accuracy: 0.9958\n",
      "Epoch 8/10\n",
      "226/226 [==============================] - 625s 3s/step - loss: 0.0424 - accuracy: 0.9877 - val_loss: 0.0103 - val_accuracy: 0.9951\n",
      "Epoch 9/10\n",
      "226/226 [==============================] - 627s 3s/step - loss: 0.0097 - accuracy: 0.9971 - val_loss: 0.0026 - val_accuracy: 0.9993\n",
      "Epoch 10/10\n",
      "226/226 [==============================] - 638s 3s/step - loss: 0.0042 - accuracy: 0.9986 - val_loss: 0.0045 - val_accuracy: 0.9986\n"
     ]
    }
   ],
   "source": [
    "history_1 = model.fit(training_ds, epochs=10, validation_data=validation_ds, callbacks=early)"
   ]
  },
  {
   "cell_type": "code",
   "execution_count": 14,
   "id": "db52debd",
   "metadata": {},
   "outputs": [
    {
     "name": "stdout",
     "output_type": "stream",
     "text": [
      "Found 1805 files belonging to 4 classes.\n"
     ]
    }
   ],
   "source": [
    "testing_ds = tf.keras.preprocessing.image_dataset_from_directory(\n",
    "\"test\",\n",
    "shuffle = True,\n",
    "seed = 16,\n",
    "image_size = (iz, iz),\n",
    "batch_size = bs\n",
    ")"
   ]
  },
  {
   "cell_type": "code",
   "execution_count": 15,
   "id": "cb57a541",
   "metadata": {},
   "outputs": [
    {
     "name": "stdout",
     "output_type": "stream",
     "text": [
      "57/57 [==============================] - 132s 2s/step - loss: 0.0565 - accuracy: 0.9850\n"
     ]
    },
    {
     "data": {
      "text/plain": [
       "[0.056530263274908066, 0.9850415587425232]"
      ]
     },
     "execution_count": 15,
     "metadata": {},
     "output_type": "execute_result"
    }
   ],
   "source": [
    "scores_1 = model.evaluate(testing_ds)\n",
    "scores_1"
   ]
  },
  {
   "cell_type": "code",
   "execution_count": 16,
   "id": "cd2ce76b",
   "metadata": {},
   "outputs": [
    {
     "data": {
      "image/png": "[encoded data removed]",
      "text/plain": [
       "<Figure size 640x480 with 1 Axes>"
      ]
     },
     "metadata": {},
     "output_type": "display_data"
    }
   ],
   "source": [
    "plt.plot(history_1.history['accuracy'], label='Train')\n",
    "plt.plot(history_1.history['val_accuracy'], label='Validation')\n",
    "plt.xlabel('Epoch')\n",
    "plt.ylabel('Accuracy')\n",
    "plt.legend()\n",
    "plt.title('Training and Validation Accuracy')\n",
    "plt.show()"
   ]
  },
  {
   "cell_type": "code",
   "execution_count": 18,
   "id": "c8119593",
   "metadata": {},
   "outputs": [
    {
     "data": {
      "image/png": "[encoded data removed]",
      "text/plain": [
       "<Figure size 800x600 with 2 Axes>"
      ]
     },
     "metadata": {},
     "output_type": "display_data"
    }
   ],
   "source": [
    "predicted_labels = []\n",
    "true_labels = []\n",
    "\n",
    "for images, labels in testing_ds:\n",
    "    true_labels.extend(labels.numpy())\n",
    "    predictions = model.predict(images, verbose=0)\n",
    "    predicted_labels.extend(np.argmax(predictions, axis=1))\n",
    "    \n",
    "# Create a confusion matrix\n",
    "conf_matrix = confusion_matrix(true_labels, predicted_labels)\n",
    "\n",
    "# Plot the confusion matrix using Seaborn\n",
    "plt.figure(figsize=(8, 6))\n",
    "sns.heatmap(conf_matrix, annot=True, fmt='d',xticklabels=class_names, yticklabels=class_names)\n",
    "plt.xlabel('Predicted Labels')\n",
    "plt.ylabel('True Labels')\n",
    "plt.title('Confusion Matrix')\n",
    "plt.show()"
   ]
  },
  {
   "cell_type": "code",
   "execution_count": 19,
   "id": "4f391b26",
   "metadata": {},
   "outputs": [
    {
     "name": "stdout",
     "output_type": "stream",
     "text": [
      "INFO:tensorflow:Assets written to: ../Models/ResNet50\\assets\n"
     ]
    },
    {
     "name": "stderr",
     "output_type": "stream",
     "text": [
      "INFO:tensorflow:Assets written to: ../Models/ResNet50\\assets\n"
     ]
    }
   ],
   "source": [
    "model.save(f\"../Models/ResNet50\")"
   ]
  },
  {
   "cell_type": "code",
   "execution_count": 8,
   "id": "14193657",
   "metadata": {},
   "outputs": [],
   "source": [
    "from tensorflow.keras.applications import VGG16\n",
    "model = models.Sequential()\n",
    "model.add(VGG16(include_top=False, pooling='max', weights='imagenet', input_shape = (iz, iz, 3)))\n",
    "model.add(Dense(class_number, activation='softmax'))\n",
    "model.layers[0].trainable = False"
   ]
  },
  {
   "cell_type": "code",
   "execution_count": 9,
   "id": "182132b4",
   "metadata": {},
   "outputs": [
    {
     "name": "stdout",
     "output_type": "stream",
     "text": [
      "Model: \"sequential\"\n",
      "_________________________________________________________________\n",
      " Layer (type)                Output Shape              Param #   \n",
      "=================================================================\n",
      " vgg16 (Functional)          (None, 512)               14714688  \n",
      "                                                                 \n",
      " dense (Dense)               (None, 4)                 2052      \n",
      "                                                                 \n",
      "=================================================================\n",
      "Total params: 14,716,740\n",
      "Trainable params: 2,052\n",
      "Non-trainable params: 14,714,688\n",
      "_________________________________________________________________\n"
     ]
    }
   ],
   "source": [
    "model.summary()"
   ]
  },
  {
   "cell_type": "code",
   "execution_count": 10,
   "id": "6148fa07",
   "metadata": {},
   "outputs": [],
   "source": [
    "model.compile(loss='sparse_categorical_crossentropy', optimizer='adam', metrics=['accuracy'])"
   ]
  },
  {
   "cell_type": "code",
   "execution_count": 11,
   "id": "738807f9",
   "metadata": {},
   "outputs": [],
   "source": [
    "early = EarlyStopping(monitor = 'val_loss', patience=3)"
   ]
  },
  {
   "cell_type": "code",
   "execution_count": 12,
   "id": "63d9b6be",
   "metadata": {},
   "outputs": [
    {
     "name": "stdout",
     "output_type": "stream",
     "text": [
      "Epoch 1/10\n",
      "226/226 [==============================] - 121s 469ms/step - loss: 4.5073 - accuracy: 0.7695 - val_loss: 1.1704 - val_accuracy: 0.9056\n",
      "Epoch 2/10\n",
      "226/226 [==============================] - 55s 242ms/step - loss: 0.8335 - accuracy: 0.9266 - val_loss: 0.4723 - val_accuracy: 0.9479\n",
      "Epoch 3/10\n",
      "226/226 [==============================] - 55s 245ms/step - loss: 0.4965 - accuracy: 0.9521 - val_loss: 0.3074 - val_accuracy: 0.9646\n",
      "Epoch 4/10\n",
      "226/226 [==============================] - 56s 247ms/step - loss: 0.3167 - accuracy: 0.9610 - val_loss: 0.1781 - val_accuracy: 0.9764\n",
      "Epoch 5/10\n",
      "226/226 [==============================] - 56s 248ms/step - loss: 0.2560 - accuracy: 0.9695 - val_loss: 0.2157 - val_accuracy: 0.9688\n",
      "Epoch 6/10\n",
      "226/226 [==============================] - 56s 248ms/step - loss: 0.1682 - accuracy: 0.9755 - val_loss: 0.1340 - val_accuracy: 0.9799\n",
      "Epoch 7/10\n",
      "226/226 [==============================] - 56s 249ms/step - loss: 0.1420 - accuracy: 0.9785 - val_loss: 0.2377 - val_accuracy: 0.9653\n",
      "Epoch 8/10\n",
      "226/226 [==============================] - 57s 250ms/step - loss: 0.1457 - accuracy: 0.9784 - val_loss: 0.0986 - val_accuracy: 0.9826\n",
      "Epoch 9/10\n",
      "226/226 [==============================] - 57s 250ms/step - loss: 0.1027 - accuracy: 0.9850 - val_loss: 0.0916 - val_accuracy: 0.9854\n",
      "Epoch 10/10\n",
      "226/226 [==============================] - 57s 251ms/step - loss: 0.1062 - accuracy: 0.9821 - val_loss: 0.0765 - val_accuracy: 0.9854\n"
     ]
    }
   ],
   "source": [
    "history_2 = model.fit(training_ds, epochs=10, validation_data=validation_ds, callbacks=early)"
   ]
  },
  {
   "cell_type": "code",
   "execution_count": 1,
   "id": "ac72d7e8",
   "metadata": {},
   "outputs": [
    {
     "ename": "NameError",
     "evalue": "name 'model' is not defined",
     "output_type": "error",
     "traceback": [
      "\u001b[1;31m---------------------------------------------------------------------------\u001b[0m",
      "\u001b[1;31mNameError\u001b[0m                                 Traceback (most recent call last)",
      "Cell \u001b[1;32mIn[1], line 1\u001b[0m\n\u001b[1;32m----> 1\u001b[0m scores_2 \u001b[38;5;241m=\u001b[39m \u001b[43mmodel\u001b[49m\u001b[38;5;241m.\u001b[39mevaluate(testing_ds)\n\u001b[0;32m      2\u001b[0m scores_2\n",
      "\u001b[1;31mNameError\u001b[0m: name 'model' is not defined"
     ]
    }
   ],
   "source": [
    "scores_2 = model.evaluate(testing_ds)\n",
    "scores_2"
   ]
  },
  {
   "cell_type": "code",
   "execution_count": null,
   "id": "eec0cf0e",
   "metadata": {},
   "outputs": [],
   "source": []
  }
 ],
 "metadata": {
  "kernelspec": {
   "display_name": "base",
   "language": "python",
   "name": "python3"
  },
  "language_info": {
   "codemirror_mode": {
    "name": "ipython",
    "version": 3
   },
   "file_extension": ".py",
   "mimetype": "text/x-python",
   "name": "python",
   "nbconvert_exporter": "python",
   "pygments_lexer": "ipython3",
   "version": "3.10.12"
  }
 },
 "nbformat": 4,
 "nbformat_minor": 5
}
