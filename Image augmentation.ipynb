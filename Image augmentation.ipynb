{
 "cells": [
  {
   "cell_type": "code",
   "execution_count": 1,
   "metadata": {},
   "outputs": [
    {
     "name": "stdout",
     "output_type": "stream",
     "text": [
      "Complete\n"
     ]
    }
   ],
   "source": [
    "import os\n",
    "import numpy as np\n",
    "from PIL import Image, ImageEnhance\n",
    "from keras.preprocessing.image import ImageDataGenerator\n",
    "\n",
    "input_directory = r'C:\\\\Users\\\\Lenovo\\\\Desktop\\\\bajaj\\\\OK'\n",
    "output_directory = r'C:\\\\Users\\\\Lenovo\\\\Desktop\\\\bajaj\\\\OK_AUG'\n",
    "\n",
    "SIZE = 224\n",
    "\n",
    "# Initialize the ImageDataGenerator for other augmentations\n",
    "datagen = ImageDataGenerator(\n",
    "    rotation_range=20,\n",
    "    shear_range=0.1,\n",
    "    horizontal_flip=True,\n",
    "    brightness_range=(-1.5, 1.5)\n",
    ")\n",
    "\n",
    "# Create a function for color augmentation using Pillow\n",
    "\n",
    "for root, dirs, files in os.walk(input_directory):\n",
    "    for dir_name in dirs:\n",
    "        input_subfolder = os.path.join(root, dir_name)\n",
    "        output_subfolder = os.path.join(output_directory, os.path.relpath(input_subfolder, input_directory))\n",
    "\n",
    "        if not os.path.exists(output_subfolder):\n",
    "            os.makedirs(output_subfolder)\n",
    "\n",
    "        my_images = os.listdir(input_subfolder)\n",
    "\n",
    "        for image_name in my_images:\n",
    "            if image_name.split('.')[-1] == 'jpg':\n",
    "                image = Image.open(os.path.join(input_subfolder, image_name))\n",
    "                image = image.resize((1280, 768))\n",
    "                image = np.array(image)\n",
    "                image = image.reshape((1,) + image.shape)  # Add an extra dimension for the batch size\n",
    "\n",
    "                i = 0\n",
    "                for batch in datagen.flow(image, batch_size=16, save_to_dir=output_subfolder, save_prefix='dr', save_format='jpg'):\n",
    "                    i += 1\n",
    "                    if i > 15:\n",
    "                        break\n",
    "print('Complete')"
   ]
  },
  {
   "cell_type": "code",
   "execution_count": null,
   "metadata": {},
   "outputs": [],
   "source": []
  }
 ],
 "metadata": {
  "kernelspec": {
   "display_name": "gpu",
   "language": "python",
   "name": "gpu"
  },
  "language_info": {
   "codemirror_mode": {
    "name": "ipython",
    "version": 3
   },
   "file_extension": ".py",
   "mimetype": "text/x-python",
   "name": "python",
   "nbconvert_exporter": "python",
   "pygments_lexer": "ipython3",
   "version": "3.10.12"
  }
 },
 "nbformat": 4,
 "nbformat_minor": 2
}
